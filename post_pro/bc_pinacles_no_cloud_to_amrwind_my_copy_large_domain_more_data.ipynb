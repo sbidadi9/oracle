{
 "cells": [
  {
   "cell_type": "markdown",
   "id": "2e3cf29a-7d92-4ede-8531-340b559acfe5",
   "metadata": {},
   "source": [
    "# Import Boundary Conditions from PINACLES and write in AMR-Wind Format"
   ]
  },
  {
   "cell_type": "code",
   "execution_count": 1,
   "id": "dc89293a-141f-48de-b056-d91f80067a0b",
   "metadata": {},
   "outputs": [],
   "source": [
    "import numpy as np\n",
    "from pathlib import Path\n",
    "import h5py\n",
    "import matplotlib.pyplot as plt\n",
    "import os\n",
    "import re\n",
    "from datetime import timedelta\n",
    "from scipy import interpolate\n",
    "from netCDF4 import Dataset"
   ]
  },
  {
   "cell_type": "markdown",
   "id": "68ebe4e4-376b-474b-a4fa-0f875084aadf",
   "metadata": {},
   "source": [
    "## Extract the PINACLES file names and times from the files"
   ]
  },
  {
   "cell_type": "code",
   "execution_count": 2,
   "id": "fa5fd552-0067-4c0c-8482-d932ebdaa0f3",
   "metadata": {},
   "outputs": [
    {
     "name": "stdout",
     "output_type": "stream",
     "text": [
      "[0.000e+00 1.000e+01 2.000e+01 ... 2.158e+04 2.159e+04 2.160e+04]\n"
     ]
    }
   ],
   "source": [
    "loc = Path('/scratch/ckaul/dycoms_planes_dry_10m/fields2d/')\n",
    "\n",
    "def get_seconds(filename):\n",
    "    match = re.match(r\"(\\d{2})d-(\\d{2})h-(\\d{2})m-(\\d{2})s-(\\d{3})ms\\.h5\", filename)\n",
    "    if match:\n",
    "        d, h, m, s, ms = map(int, match.groups())\n",
    "        return timedelta(days=d, hours=h, minutes=m, seconds=s, milliseconds=ms).total_seconds()\n",
    "\n",
    "# The names of the files sorted\n",
    "time_files = sorted(\n",
    "        [f for f in os.listdir(loc) if f.endswith('.h5') and get_seconds(f) is not None]\n",
    "    )\n",
    "\n",
    "# time_data = {\n",
    "#     f: get_seconds(f) for f in os.listdir(loc) if f.endswith('.h5') and get_seconds(f) is not None\n",
    "# }\n",
    "\n",
    "# Print results\n",
    "# for fname, sec in time_data.items():\n",
    "#     print(f\"{fname}: {sec} seconds\")\n",
    "\n",
    "times_in_seconds = np.array([\n",
    "    get_seconds(f) for f in time_files\n",
    "])\n",
    "\n",
    "#print(time_files)\n",
    "print(times_in_seconds)"
   ]
  },
  {
   "cell_type": "markdown",
   "id": "a7f79213-fac2-4bc6-8c4a-d5a7f00d2669",
   "metadata": {},
   "source": [
    "## Extract the arrays of velocity data from PINACLES in numpy format"
   ]
  },
  {
   "cell_type": "code",
   "execution_count": 3,
   "id": "bbc60c3e-39e0-45e2-a9a0-e9f02c6c255f",
   "metadata": {},
   "outputs": [
    {
     "name": "stdout",
     "output_type": "stream",
     "text": [
      "['IWP', 'LWP', 'RAINNC', 'RAINNCV', 'T', 'T_105.0', 'T_205.0', 'T_305.0', 'T_5.0', 'T_x_1800', 'T_x_4800', 'T_x_5800', 'T_x_800', 'T_y_1800', 'T_y_4800', 'T_y_5800', 'T_y_800', 'X', 'Y', 'Z', 'cloud_base', 'cloud_top', 'pseudo-albedo', 'qc_105.0', 'qc_205.0', 'qc_305.0', 'qc_5.0', 'qc_x_1800', 'qc_x_4800', 'qc_x_5800', 'qc_x_800', 'qc_y_1800', 'qc_y_4800', 'qc_y_5800', 'qc_y_800', 'qi1_105.0', 'qi1_205.0', 'qi1_305.0', 'qi1_5.0', 'qi1_x_1800', 'qi1_x_4800', 'qi1_x_5800', 'qi1_x_800', 'qi1_y_1800', 'qi1_y_4800', 'qi1_y_5800', 'qi1_y_800', 'qib1_105.0', 'qib1_205.0', 'qib1_305.0', 'qib1_5.0', 'qib1_x_1800', 'qib1_x_4800', 'qib1_x_5800', 'qib1_x_800', 'qib1_y_1800', 'qib1_y_4800', 'qib1_y_5800', 'qib1_y_800', 'qir1_105.0', 'qir1_205.0', 'qir1_305.0', 'qir1_5.0', 'qir1_x_1800', 'qir1_x_4800', 'qir1_x_5800', 'qir1_x_800', 'qir1_y_1800', 'qir1_y_4800', 'qir1_y_5800', 'qir1_y_800', 'qnc_105.0', 'qnc_205.0', 'qnc_305.0', 'qnc_5.0', 'qnc_x_1800', 'qnc_x_4800', 'qnc_x_5800', 'qnc_x_800', 'qnc_y_1800', 'qnc_y_4800', 'qnc_y_5800', 'qnc_y_800', 'qni1_105.0', 'qni1_205.0', 'qni1_305.0', 'qni1_5.0', 'qni1_x_1800', 'qni1_x_4800', 'qni1_x_5800', 'qni1_x_800', 'qni1_y_1800', 'qni1_y_4800', 'qni1_y_5800', 'qni1_y_800', 'qnr_105.0', 'qnr_205.0', 'qnr_305.0', 'qnr_5.0', 'qnr_x_1800', 'qnr_x_4800', 'qnr_x_5800', 'qnr_x_800', 'qnr_y_1800', 'qnr_y_4800', 'qnr_y_5800', 'qnr_y_800', 'qr_105.0', 'qr_205.0', 'qr_305.0', 'qr_5.0', 'qr_x_1800', 'qr_x_4800', 'qr_x_5800', 'qr_x_800', 'qr_y_1800', 'qr_y_4800', 'qr_y_5800', 'qr_y_800', 'qt_105.0', 'qt_205.0', 'qt_305.0', 'qt_5.0', 'qt_x_1800', 'qt_x_4800', 'qt_x_5800', 'qt_x_800', 'qt_y_1800', 'qt_y_4800', 'qt_y_5800', 'qt_y_800', 'qv', 'qv_105.0', 'qv_205.0', 'qv_305.0', 'qv_5.0', 'qv_x_1800', 'qv_x_4800', 'qv_x_5800', 'qv_x_800', 'qv_y_1800', 'qv_y_4800', 'qv_y_5800', 'qv_y_800', 'ref', 's_105.0', 's_205.0', 's_305.0', 's_5.0', 's_x_1800', 's_x_4800', 's_x_5800', 's_x_800', 's_y_1800', 's_y_4800', 's_y_5800', 's_y_800', 'slp', 'thetal_105.0', 'thetal_205.0', 'thetal_305.0', 'thetal_5.0', 'thetal_x_1800', 'thetal_x_4800', 'thetal_x_5800', 'thetal_x_800', 'thetal_y_1800', 'thetal_y_4800', 'thetal_y_5800', 'thetal_y_800', 'thetav_105.0', 'thetav_205.0', 'thetav_305.0', 'thetav_5.0', 'thetav_x_1800', 'thetav_x_4800', 'thetav_x_5800', 'thetav_x_800', 'thetav_y_1800', 'thetav_y_4800', 'thetav_y_5800', 'thetav_y_800', 'time', 'u_105.0', 'u_205.0', 'u_305.0', 'u_5.0', 'u_x_1800', 'u_x_4800', 'u_x_5800', 'u_x_800', 'u_y_1800', 'u_y_4800', 'u_y_5800', 'u_y_800', 'v_105.0', 'v_205.0', 'v_305.0', 'v_5.0', 'v_x_1800', 'v_x_4800', 'v_x_5800', 'v_x_800', 'v_y_1800', 'v_y_4800', 'v_y_5800', 'v_y_800', 'visibility', 'w_105.0', 'w_205.0', 'w_305.0', 'w_5.0', 'w_x_1800', 'w_x_4800', 'w_x_5800', 'w_x_800', 'w_y_1800', 'w_y_4800', 'w_y_5800', 'w_y_800']\n",
      "2161\n"
     ]
    }
   ],
   "source": [
    "# Open the first file to get the shape of the data arrays (assuming all files have the same shape)\n",
    "with h5py.File(os.path.join(loc, time_files[0]), \"r\") as f:\n",
    "     print(list(f.keys())) \n",
    "\n",
    "\n",
    "# Determine the number of time steps\n",
    "num_files = len(time_files)\n",
    "print(num_files)"
   ]
  },
  {
   "cell_type": "code",
   "execution_count": 4,
   "id": "95bc1db0-5e78-470d-9dcf-7de3b376dd9e",
   "metadata": {},
   "outputs": [
    {
     "name": "stdout",
     "output_type": "stream",
     "text": [
      "[1705. 1715. 1725. 1735. 1745. 1755. 1765. 1775. 1785. 1795. 1805. 1815.\n",
      " 1825. 1835. 1845. 1855. 1865. 1875. 1885. 1895. 1905. 1915. 1925. 1935.\n",
      " 1945. 1955. 1965. 1975. 1985. 1995. 2005. 2015. 2025. 2035. 2045. 2055.\n",
      " 2065. 2075. 2085. 2095. 2105. 2115. 2125. 2135. 2145. 2155. 2165. 2175.\n",
      " 2185. 2195. 2205. 2215. 2225. 2235. 2245. 2255. 2265. 2275. 2285. 2295.\n",
      " 2305. 2315. 2325. 2335. 2345. 2355. 2365. 2375. 2385. 2395. 2405. 2415.\n",
      " 2425. 2435. 2445. 2455. 2465. 2475. 2485. 2495. 2505. 2515. 2525. 2535.\n",
      " 2545. 2555. 2565. 2575. 2585. 2595. 2605. 2615. 2625. 2635. 2645. 2655.\n",
      " 2665. 2675. 2685. 2695. 2705. 2715. 2725. 2735. 2745. 2755. 2765. 2775.\n",
      " 2785. 2795. 2805. 2815. 2825. 2835. 2845. 2855. 2865. 2875. 2885. 2895.\n",
      " 2905. 2915. 2925. 2935. 2945. 2955. 2965. 2975. 2985. 2995. 3005. 3015.\n",
      " 3025. 3035. 3045. 3055. 3065. 3075. 3085. 3095. 3105. 3115. 3125. 3135.\n",
      " 3145. 3155. 3165. 3175. 3185. 3195. 3205. 3215. 3225. 3235. 3245. 3255.\n",
      " 3265. 3275. 3285. 3295. 3305. 3315. 3325. 3335. 3345. 3355. 3365. 3375.\n",
      " 3385. 3395. 3405. 3415. 3425. 3435. 3445. 3455. 3465. 3475. 3485. 3495.\n",
      " 3505. 3515. 3525. 3535. 3545. 3555. 3565. 3575. 3585. 3595. 3605. 3615.\n",
      " 3625. 3635. 3645. 3655. 3665. 3675. 3685. 3695. 3705. 3715. 3725. 3735.\n",
      " 3745. 3755. 3765. 3775. 3785. 3795. 3805. 3815. 3825. 3835. 3845. 3855.\n",
      " 3865. 3875. 3885. 3895. 3905. 3915. 3925. 3935. 3945. 3955. 3965. 3975.\n",
      " 3985. 3995. 4005. 4015. 4025. 4035. 4045. 4055. 4065. 4075. 4085. 4095.\n",
      " 4105. 4115. 4125. 4135. 4145. 4155. 4165. 4175. 4185. 4195. 4205. 4215.\n",
      " 4225. 4235. 4245. 4255. 4265. 4275. 4285. 4295. 4305. 4315. 4325. 4335.\n",
      " 4345. 4355. 4365. 4375. 4385. 4395. 4405. 4415. 4425. 4435. 4445. 4455.\n",
      " 4465. 4475. 4485. 4495. 4505. 4515. 4525. 4535. 4545. 4555. 4565. 4575.\n",
      " 4585. 4595. 4605. 4615. 4625. 4635. 4645. 4655. 4665. 4675. 4685. 4695.\n",
      " 4705. 4715. 4725. 4735. 4745. 4755. 4765. 4775. 4785. 4795. 4805. 4815.\n",
      " 4825. 4835. 4845. 4855. 4865. 4875. 4885. 4895.]\n",
      "(1, 660, 150)\n",
      "(320,) (150,)\n"
     ]
    }
   ],
   "source": [
    "#### Collecting xlo data: For yz plane\n",
    "\n",
    "datafile = os.path.join(loc, time_files[0])\n",
    "      \n",
    "# Open the first file to get the shape of the data arrays (assuming all files have the same shape)\n",
    "with h5py.File(os.path.join(loc, time_files[0]), \"r\") as f:\n",
    "     u_shape_xlo = f['u_x_1800'].shape \n",
    "     xlo = np.array(f['X'])\n",
    "     ylo = np.array(f['Y'][170:490])\n",
    "     zlo = np.array(f['Z'])\n",
    "\n",
    "print(ylo)\n",
    "\n",
    "ylo = ylo - ylo[0]\n",
    "\n",
    "print(u_shape_xlo)\n",
    "print(ylo.shape, zlo.shape)\n",
    "\n",
    "# Pre-allocate the NumPy arrays for u, v, w\n",
    "u_data_xlo = np.zeros((num_files, 1, ylo.shape[0], zlo.shape[0]))\n",
    "v_data_xlo = np.zeros((num_files, 1, ylo.shape[0], zlo.shape[0]))\n",
    "w_data_xlo = np.zeros((num_files, 1, ylo.shape[0], zlo.shape[0]))\n",
    "thetal_data_xlo = np.zeros((num_files, 1, ylo.shape[0], zlo.shape[0]))\n",
    "\n",
    "T_data_xlo = np.zeros((num_files, 1, ylo.shape[0], zlo.shape[0]))\n",
    "qc_xlo = np.zeros((num_files, 1, ylo.shape[0], zlo.shape[0]))"
   ]
  },
  {
   "cell_type": "code",
   "execution_count": 5,
   "id": "e9abc39f-29bf-4ed7-8be6-ce12a55b5b4d",
   "metadata": {},
   "outputs": [
    {
     "name": "stdout",
     "output_type": "stream",
     "text": [
      "[1705. 1715. 1725. 1735. 1745. 1755. 1765. 1775. 1785. 1795. 1805. 1815.\n",
      " 1825. 1835. 1845. 1855. 1865. 1875. 1885. 1895. 1905. 1915. 1925. 1935.\n",
      " 1945. 1955. 1965. 1975. 1985. 1995. 2005. 2015. 2025. 2035. 2045. 2055.\n",
      " 2065. 2075. 2085. 2095. 2105. 2115. 2125. 2135. 2145. 2155. 2165. 2175.\n",
      " 2185. 2195. 2205. 2215. 2225. 2235. 2245. 2255. 2265. 2275. 2285. 2295.\n",
      " 2305. 2315. 2325. 2335. 2345. 2355. 2365. 2375. 2385. 2395. 2405. 2415.\n",
      " 2425. 2435. 2445. 2455. 2465. 2475. 2485. 2495. 2505. 2515. 2525. 2535.\n",
      " 2545. 2555. 2565. 2575. 2585. 2595. 2605. 2615. 2625. 2635. 2645. 2655.\n",
      " 2665. 2675. 2685. 2695. 2705. 2715. 2725. 2735. 2745. 2755. 2765. 2775.\n",
      " 2785. 2795. 2805. 2815. 2825. 2835. 2845. 2855. 2865. 2875. 2885. 2895.\n",
      " 2905. 2915. 2925. 2935. 2945. 2955. 2965. 2975. 2985. 2995. 3005. 3015.\n",
      " 3025. 3035. 3045. 3055. 3065. 3075. 3085. 3095. 3105. 3115. 3125. 3135.\n",
      " 3145. 3155. 3165. 3175. 3185. 3195. 3205. 3215. 3225. 3235. 3245. 3255.\n",
      " 3265. 3275. 3285. 3295. 3305. 3315. 3325. 3335. 3345. 3355. 3365. 3375.\n",
      " 3385. 3395. 3405. 3415. 3425. 3435. 3445. 3455. 3465. 3475. 3485. 3495.\n",
      " 3505. 3515. 3525. 3535. 3545. 3555. 3565. 3575. 3585. 3595. 3605. 3615.\n",
      " 3625. 3635. 3645. 3655. 3665. 3675. 3685. 3695. 3705. 3715. 3725. 3735.\n",
      " 3745. 3755. 3765. 3775. 3785. 3795. 3805. 3815. 3825. 3835. 3845. 3855.\n",
      " 3865. 3875. 3885. 3895. 3905. 3915. 3925. 3935. 3945. 3955. 3965. 3975.\n",
      " 3985. 3995. 4005. 4015. 4025. 4035. 4045. 4055. 4065. 4075. 4085. 4095.\n",
      " 4105. 4115. 4125. 4135. 4145. 4155. 4165. 4175. 4185. 4195. 4205. 4215.\n",
      " 4225. 4235. 4245. 4255. 4265. 4275. 4285. 4295. 4305. 4315. 4325. 4335.\n",
      " 4345. 4355. 4365. 4375. 4385. 4395. 4405. 4415. 4425. 4435. 4445. 4455.\n",
      " 4465. 4475. 4485. 4495. 4505. 4515. 4525. 4535. 4545. 4555. 4565. 4575.\n",
      " 4585. 4595. 4605. 4615. 4625. 4635. 4645. 4655. 4665. 4675. 4685. 4695.\n",
      " 4705. 4715. 4725. 4735. 4745. 4755. 4765. 4775. 4785. 4795. 4805. 4815.\n",
      " 4825. 4835. 4845. 4855. 4865. 4875. 4885. 4895.]\n",
      "(1, 660, 150)\n",
      "(320,) (150,)\n"
     ]
    }
   ],
   "source": [
    "# collecting yhi data: For xz plane\n",
    "datafile = os.path.join(loc, time_files[0])\n",
    "\n",
    "# Open the first file to get the shape of the data arrays (assuming all files have the same shape)\n",
    "with h5py.File(os.path.join(loc, time_files[0]), \"r\") as f:\n",
    "     u_shape_yhi = f['u_y_4800'].shape \n",
    "     xhi = np.array(f['X'][170:490])\n",
    "     yhi = np.array(f['Y'])\n",
    "     zhi = np.array(f['Z'])\n",
    "\n",
    "print(xhi)\n",
    "\n",
    "xhi = xhi - xhi[0]\n",
    "\n",
    "print(u_shape_yhi)\n",
    "print(xhi.shape, zhi.shape)\n",
    "\n",
    "# Pre-allocate the NumPy arrays for u, v, w\n",
    "u_data_yhi = np.zeros((num_files, xhi.shape[0], 1, zhi.shape[0]))\n",
    "v_data_yhi = np.zeros((num_files, xhi.shape[0], 1, zhi.shape[0]))\n",
    "w_data_yhi = np.zeros((num_files, xhi.shape[0], 1, zhi.shape[0]))\n",
    "thetal_data_yhi = np.zeros((num_files, xhi.shape[0], 1, zhi.shape[0]))"
   ]
  },
  {
   "cell_type": "code",
   "execution_count": 6,
   "id": "fdacf7cb-7df6-45b2-8b0d-262dd3707ded",
   "metadata": {},
   "outputs": [
    {
     "name": "stdout",
     "output_type": "stream",
     "text": [
      "u done\n"
     ]
    }
   ],
   "source": [
    "# Populate the arrays with data from each file\n",
    "for idx, fname in enumerate(time_files):\n",
    "    with h5py.File(os.path.join(loc, fname), \"r\") as f:\n",
    "        u_data_xlo[idx] = f['u_x_1800'][0,170:490,:] + 6.22\n",
    "        source_3d = f['u_y_1800'][0,170:490,:].reshape(320, 1, 150)\n",
    "        u_data_yhi[idx] = source_3d + 6.22\n",
    "print(\"u done\")"
   ]
  },
  {
   "cell_type": "code",
   "execution_count": 7,
   "id": "86d9eeac-246b-49ba-b60d-4080be01aa9c",
   "metadata": {},
   "outputs": [
    {
     "name": "stdout",
     "output_type": "stream",
     "text": [
      "v done\n"
     ]
    }
   ],
   "source": [
    "# Populate the arrays with data from each file\n",
    "for idx, fname in enumerate(time_files):\n",
    "    with h5py.File(os.path.join(loc, fname), \"r\") as f:\n",
    "        v_data_xlo[idx] = f['v_x_1800'][0,170:490,:] - 4.8\n",
    "        source_3d = f['v_y_1800'][0,170:490,:].reshape(320, 1, 150)\n",
    "        v_data_yhi[idx] = source_3d - 4.8\n",
    "\n",
    "        w_data_xlo[idx] = f['w_x_1800'][0,170:490,:]\n",
    "        source_3d = f['w_y_1800'][0,170:490,:].reshape(320, 1, 150)\n",
    "        w_data_yhi[idx] = source_3d\n",
    "\n",
    "        thetal_data_xlo[idx] = f['thetal_x_1800'][0,170:490,:]\n",
    "        source_3d = f['thetal_y_1800'][0,170:490,:].reshape(320, 1, 150)\n",
    "        thetal_data_yhi[idx] = source_3d\n",
    "        \n",
    "print(\"v done\")"
   ]
  },
  {
   "cell_type": "code",
   "execution_count": null,
   "id": "b0207e7c-6028-4bc1-aaa9-18066f653d46",
   "metadata": {},
   "outputs": [],
   "source": [
    "# # Populate the arrays with data from each file\n",
    "# for idx, fname in enumerate(time_files):\n",
    "#     with h5py.File(os.path.join(loc, fname), \"r\") as f:\n",
    "#         w_data_xlo[idx] = f['w_x_1800'][0,170:490,:]\n",
    "#         source_3d = f['w_y_1800'][0,170:490,:].reshape(320, 1, 150)\n",
    "#         w_data_yhi[idx] = source_3d\n",
    "# print(\"w done\")"
   ]
  },
  {
   "cell_type": "code",
   "execution_count": null,
   "id": "0775212b-3a8a-4584-85c4-d9ab89883b1f",
   "metadata": {},
   "outputs": [],
   "source": [
    "# # Populate the arrays with data from each file\n",
    "# for idx, fname in enumerate(time_files):\n",
    "#     with h5py.File(os.path.join(loc, fname), \"r\") as f:\n",
    "#         thetal_data_xlo[idx] = f['thetal_x_1800'][0,170:490,:]\n",
    "#         source_3d = f['thetal_y_1800'][0,170:490,:].reshape(320, 1, 150)\n",
    "#         thetal_data_yhi[idx] = source_3d\n",
    "# print(\"thetal done\")"
   ]
  },
  {
   "cell_type": "code",
   "execution_count": 1,
   "id": "aca8c551-1b6a-4e61-8b95-92236909295d",
   "metadata": {},
   "outputs": [
    {
     "ename": "NameError",
     "evalue": "name 'thetal_data_yhi' is not defined",
     "output_type": "error",
     "traceback": [
      "\u001b[0;31m---------------------------------------------------------------------------\u001b[0m",
      "\u001b[0;31mNameError\u001b[0m                                 Traceback (most recent call last)",
      "Cell \u001b[0;32mIn[1], line 1\u001b[0m\n\u001b[0;32m----> 1\u001b[0m \u001b[43mthetal_data_yhi\u001b[49m\n",
      "\u001b[0;31mNameError\u001b[0m: name 'thetal_data_yhi' is not defined"
     ]
    }
   ],
   "source": [
    "thetal_data_yhi"
   ]
  },
  {
   "cell_type": "code",
   "execution_count": 8,
   "id": "75bcef1a-23ee-46d2-a340-78ca078520cc",
   "metadata": {},
   "outputs": [
    {
     "name": "stdout",
     "output_type": "stream",
     "text": [
      "10.0 10.0\n"
     ]
    }
   ],
   "source": [
    "# AMR-Wind domain (xlo):\n",
    "ylo_aw, zlo_aw = 0, 0\n",
    "yhi_aw, zhi_aw =  3200, 1520\n",
    "\n",
    "ny = 320\n",
    "nz = 152\n",
    "\n",
    "dy, dz = (yhi_aw-ylo_aw)/ny, (zhi_aw-zlo_aw)/nz\n",
    "print(dy, dz)\n",
    "\n",
    "# The desired output at cell centers\n",
    "y_out = np.linspace(ylo_aw + dy/2, yhi_aw-dy/2, ny, endpoint=True)\n",
    "z_out = np.linspace(zlo_aw + dz/2, zhi_aw-dy/2, nz, endpoint=True)\n",
    "Y, Z = np.meshgrid(y_out, z_out, indexing='ij')\n",
    "\n",
    "# Create arrays with proper dimensions and populate data with arrays\n",
    "velocity_bc_xlo = np.zeros((num_files, ny, nz, 3))\n",
    "temperature_bc_xlo = np.zeros((num_files, ny, nz))\n",
    "ptemperature_bc_xlo = np.zeros((num_files, ny, nz))\n",
    "tke_bc_xlo = np.ones((num_files, ny, nz)) * 0.001 # Initialize to small value\n",
    "\n",
    "for nt in range(num_files):\n",
    "\n",
    "    # # Build a 2D interpolator from PINACLES data\n",
    "    u_int = interpolate.RegularGridInterpolator((ylo, zlo), u_data_xlo[nt, 0, :,:], method='linear', bounds_error=False, fill_value=None)\n",
    "    v_int = interpolate.RegularGridInterpolator((ylo, zlo), v_data_xlo[nt, 0, :,:], method='linear', bounds_error=False, fill_value=None)\n",
    "    w_int = interpolate.RegularGridInterpolator((ylo, zlo), w_data_xlo[nt, 0, :,:], method='linear', bounds_error=False, fill_value=None)\n",
    "    thetal_int = interpolate.RegularGridInterpolator((ylo, zlo), thetal_data_xlo[nt, 0, :,:], method='linear', bounds_error=False, fill_value=None)\n",
    "\n",
    "    # Interpolate the data \n",
    "    velocity_bc_xlo[nt, :, :, 0] = u_int((Y, Z))\n",
    "    velocity_bc_xlo[nt, :, :, 1] = v_int((Y, Z))\n",
    "    velocity_bc_xlo[nt, :, :, 2] = w_int((Y, Z))\n",
    "\n",
    "    # assign dry potential temperature\n",
    "    ptemperature_bc_xlo[nt, :, :] = thetal_int((Y, Z))"
   ]
  },
  {
   "cell_type": "code",
   "execution_count": 9,
   "id": "26f2e425-e5b1-4753-8f75-1f6409ef0e4a",
   "metadata": {},
   "outputs": [
    {
     "name": "stdout",
     "output_type": "stream",
     "text": [
      "10.0 10.0\n"
     ]
    }
   ],
   "source": [
    "# AMR-Wind domain (yhi):\n",
    "xlo_aw, zlo_aw = 0, 0\n",
    "xhi_aw, zhi_aw =  3200, 1520\n",
    "\n",
    "nx = 320\n",
    "nz = 152\n",
    "\n",
    "dx, dz = (xhi_aw-xlo_aw)/nx, (zhi_aw-zlo_aw)/nz\n",
    "print(dx, dz)\n",
    "\n",
    "# The desired output at cell centers\n",
    "x_out = np.linspace(xlo_aw + dx/2, xhi_aw-dx/2, nx, endpoint=True)\n",
    "z_out = np.linspace(zlo_aw + dz/2, zhi_aw-dy/2, nz, endpoint=True)\n",
    "X, Z = np.meshgrid(x_out, z_out, indexing='ij')\n",
    "\n",
    "# Create arrays with proper dimensions and populate data with arrays\n",
    "velocity_bc_yhi = np.zeros((num_files, nx, nz, 3))\n",
    "temperature_bc_yhi = np.zeros((num_files, nx, nz))\n",
    "ptemperature_bc_yhi = np.zeros((num_files, nx, nz))\n",
    "tke_bc_yhi = np.ones((num_files, nx, nz)) * 0.001 # Initialize to small value\n",
    "\n",
    "for nt in range(num_files):\n",
    "\n",
    "    # # Build a 2D interpolator from PINACLES data\n",
    "    u_int = interpolate.RegularGridInterpolator((xhi, zhi), u_data_yhi[nt, :, 0,:], method='linear', bounds_error=False, fill_value=None)\n",
    "    v_int = interpolate.RegularGridInterpolator((xhi, zhi), v_data_yhi[nt, :, 0,:], method='linear', bounds_error=False, fill_value=None)\n",
    "    w_int = interpolate.RegularGridInterpolator((xhi, zhi), w_data_yhi[nt, :, 0,:], method='linear', bounds_error=False, fill_value=None)\n",
    "    thetal_int = interpolate.RegularGridInterpolator((xhi, zhi), thetal_data_yhi[nt, :, 0,:], method='linear', bounds_error=False, fill_value=None)\n",
    "\n",
    "    # Interpolate the data \n",
    "    velocity_bc_yhi[nt, :, :, 0] = u_int((Y, Z))\n",
    "    velocity_bc_yhi[nt, :, :, 1] = v_int((Y, Z))\n",
    "    velocity_bc_yhi[nt, :, :, 2] = w_int((Y, Z))\n",
    "\n",
    "    # assign dry potential temperature\n",
    "    ptemperature_bc_yhi[nt, :, :] = thetal_int((Y, Z))"
   ]
  },
  {
   "cell_type": "code",
   "execution_count": 14,
   "id": "f114c20d-5471-4b62-9ca4-6e6f28b5948f",
   "metadata": {},
   "outputs": [
    {
     "name": "stdout",
     "output_type": "stream",
     "text": [
      "(2161, 320, 152, 3)\n",
      "10.0 10.0\n",
      "<class 'netCDF4._netCDF4.Variable'>\n",
      "float64 velocity(nt, ny, nz, vdim)\n",
      "path = /xlo/level_0\n",
      "unlimited dimensions: nt\n",
      "current shape = (2161, 320, 152, 3)\n",
      "filling on, default _FillValue of 9.969209968386869e+36 used\n",
      "(2161, 320, 152, 3)\n",
      "10.0 10.0\n",
      "<class 'netCDF4._netCDF4.Variable'>\n",
      "float64 velocity(nt, nx, nz, vdim)\n",
      "path = /yhi/level_0\n",
      "unlimited dimensions: nt\n",
      "current shape = (2161, 320, 152, 3)\n",
      "filling on, default _FillValue of 9.969209968386869e+36 used\n"
     ]
    }
   ],
   "source": [
    "outfile = '/scratch/sbidadi/oracle/cloud_data/bc_amr_wind_res_10m_ar_1_dry_theta_more_data_xlo_yhi.nc'\n",
    "\n",
    "'''\n",
    "This is the output file that will be saved with the \n",
    "boundary condition for amr-wind\n",
    "'''\n",
    "with Dataset(outfile, \"w\", format=\"NETCDF4\") as rootgrp:\n",
    "    ## ~~~~~~~~ Operate on the root group ~~~~~~~~\n",
    "    # Add dimensions to the root group\n",
    "    rootgrp.createDimension('sdim', 1)\n",
    "    rootgrp.createDimension('pdim', 2)\n",
    "    rootgrp.createDimension('vdim', 3)\n",
    "    rootgrp.createDimension('nt', None)\n",
    "\n",
    "    # Add groups\n",
    "    grp_xlo = rootgrp.createGroup(\"/xlo\")\n",
    "    grp_yhi = rootgrp.createGroup(\"/yhi\")\n",
    "    \n",
    "    # Add variables    \n",
    "    rootgrp.createVariable(\"time\",\"f8\",(\"nt\",))\n",
    "    rootgrp['time'][:] = times_in_seconds\n",
    "\n",
    "\n",
    "    ## ~~~~~~~~ Operate on the xlo group ~~~~~~~~\n",
    "    # Add groups\n",
    "    grp_xlo_l0 = grp_xlo.createGroup('/level_0')\n",
    "\n",
    "    # Add variables\n",
    "    grp_xlo.createVariable(\"normal\",\"i4\",)\n",
    "    grp_xlo.createVariable(\"side\",\"i4\",)\n",
    "    grp_xlo.createVariable(\"perpendicular\",\"i4\",(\"pdim\",))\n",
    "\n",
    "    grp_xlo['normal'][:] = 0\n",
    "    grp_xlo['side'][:] = 0\n",
    "    grp_xlo['perpendicular'][:] = [1, 2]\n",
    "\n",
    "    ## ~~~~~~~~ Operate on the xlo/level_0 ~~~~~~~~\n",
    "    # Add dimensions\n",
    "    grp_xlo_l0.createDimension('nx', 1)\n",
    "    grp_xlo_l0.createDimension('ny', ny)\n",
    "    grp_xlo_l0.createDimension('nz', nz)\n",
    "\n",
    "    # Add variables\n",
    "    grp_xlo_l0.createVariable(\"lengths\",\"f8\",(\"pdim\",))\n",
    "    grp_xlo_l0.createVariable(\"lo\",\"f8\",(\"pdim\",))\n",
    "    grp_xlo_l0.createVariable(\"hi\",\"f8\",(\"pdim\",))\n",
    "    grp_xlo_l0.createVariable(\"dx\",\"f8\",(\"pdim\",))\n",
    "    grp_xlo_l0.createVariable(\"velocity\",\"f8\",(\"nt\", \"ny\", \"nz\", \"vdim\",))\n",
    "    grp_xlo_l0.createVariable(\"temperature\",\"f8\",(\"nt\", \"ny\", \"nz\",))\n",
    "    grp_xlo_l0.createVariable(\"tke\",\"f8\",(\"nt\", \"ny\", \"nz\",))  # TODO: Am I precribing SGS TKE correctly?\n",
    "\n",
    "    print(velocity_bc_xlo.shape)\n",
    "    print(dy, dz)\n",
    "    grp_xlo_l0['lengths'][:] = [yhi_aw-ylo_aw, zhi_aw-zlo_aw]\n",
    "    grp_xlo_l0['lo'][:] = [ylo_aw, zlo_aw]\n",
    "    grp_xlo_l0['hi'][:] = [yhi_aw, zhi_aw]\n",
    "    grp_xlo_l0['dx'][:] = [dy, dz]\n",
    "    grp_xlo_l0['velocity'][:] = velocity_bc_xlo\n",
    "    grp_xlo_l0['temperature'][:] = ptemperature_bc_xlo\n",
    "    grp_xlo_l0['tke'][:] = tke_bc_xlo\n",
    "\n",
    "    print(grp_xlo_l0['velocity'])\n",
    "\n",
    "\n",
    "    ## ~~~~~~~~ Operate on the yhi group ~~~~~~~~\n",
    "    # Add groups\n",
    "    grp_yhi_l0 = grp_yhi.createGroup('/level_0')\n",
    "\n",
    "    # Add variables\n",
    "    grp_yhi.createVariable(\"normal\",\"i4\",)\n",
    "    grp_yhi.createVariable(\"side\",\"i4\",)\n",
    "    grp_yhi.createVariable(\"perpendicular\",\"i4\",(\"pdim\",))\n",
    "\n",
    "    grp_yhi['normal'][:] = 1\n",
    "    grp_yhi['side'][:] = 1\n",
    "    grp_yhi['perpendicular'][:] = [0, 2]\n",
    "\n",
    "    ## ~~~~~~~~ Operate on the yhi/level_0 ~~~~~~~~\n",
    "    # Add dimensions\n",
    "    grp_yhi_l0.createDimension('nx', nx)\n",
    "    grp_yhi_l0.createDimension('ny', 1)\n",
    "    grp_yhi_l0.createDimension('nz', nz)\n",
    "\n",
    "    # Add variables\n",
    "    grp_yhi_l0.createVariable(\"lengths\",\"f8\",(\"pdim\",))\n",
    "    grp_yhi_l0.createVariable(\"lo\",\"f8\",(\"pdim\",))\n",
    "    grp_yhi_l0.createVariable(\"hi\",\"f8\",(\"pdim\",))\n",
    "    grp_yhi_l0.createVariable(\"dx\",\"f8\",(\"pdim\",))\n",
    "    grp_yhi_l0.createVariable(\"velocity\",\"f8\",(\"nt\", \"nx\", \"nz\", \"vdim\",))\n",
    "    grp_yhi_l0.createVariable(\"temperature\",\"f8\",(\"nt\", \"nx\", \"nz\",))\n",
    "    grp_yhi_l0.createVariable(\"tke\",\"f8\",(\"nt\", \"nx\", \"nz\",))  # TODO: Am I precribing SGS TKE correctly?\n",
    "\n",
    "    print(velocity_bc_yhi.shape)\n",
    "    print(dy, dz)\n",
    "    grp_yhi_l0['lengths'][:] = [xhi_aw-xlo_aw, zhi_aw-zlo_aw]\n",
    "    grp_yhi_l0['lo'][:] = [xlo_aw, zlo_aw]\n",
    "    grp_yhi_l0['hi'][:] = [xhi_aw, zhi_aw]\n",
    "    grp_yhi_l0['dx'][:] = [dx, dz]\n",
    "    grp_yhi_l0['velocity'][:] = velocity_bc_yhi\n",
    "    grp_yhi_l0['temperature'][:] = ptemperature_bc_yhi\n",
    "    grp_yhi_l0['tke'][:] = tke_bc_yhi\n",
    "\n",
    "    print(grp_yhi_l0['velocity'])"
   ]
  },
  {
   "cell_type": "code",
   "execution_count": null,
   "id": "353a4acc-9d0a-4239-81b7-5af57f7f3077",
   "metadata": {},
   "outputs": [],
   "source": []
  }
 ],
 "metadata": {
  "kernelspec": {
   "display_name": "firstEnv",
   "language": "python",
   "name": "firstenv"
  },
  "language_info": {
   "codemirror_mode": {
    "name": "ipython",
    "version": 3
   },
   "file_extension": ".py",
   "mimetype": "text/x-python",
   "name": "python",
   "nbconvert_exporter": "python",
   "pygments_lexer": "ipython3",
   "version": "3.13.0"
  }
 },
 "nbformat": 4,
 "nbformat_minor": 5
}
